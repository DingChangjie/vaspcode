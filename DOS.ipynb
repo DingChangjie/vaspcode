{
 "cells": [
  {
   "cell_type": "code",
   "execution_count": 1,
   "metadata": {},
   "outputs": [],
   "source": [
    "import numpy as np"
   ]
  },
  {
   "cell_type": "code",
   "execution_count": 19,
   "metadata": {},
   "outputs": [],
   "source": [
    "class DOS():\n",
    "    def __init__(self, file):\n",
    "        self.file = file\n",
    "        self.load_DOSCAR()\n",
    "        self.read_Header()\n",
    "        self.get_energies()\n",
    "        \n",
    "    def load_DOSCAR(self):\n",
    "        self._dos = open(self.file, 'rt') \n",
    "        \n",
    "    def read_Header(self):\n",
    "        self._dos.seek(0)\n",
    "        self.n_ions, self.pdos =  np.array(self._dos.readline().split(), dtype=int)[[1, 2]]\n",
    "        \n",
    "        [self._dos.readline() for i in range(4)] # skip to line 6\n",
    "        self.e_max, self.e_min, nedos, self.e_fermi = np.array(self._dos.readline().split()[:-1], dtype=float)\n",
    "        self.nedos = np.int(nedos)\n",
    "        \n",
    "        self.spin = 1 if len(self._dos.readline().split())==5 else 0\n",
    "        self._dos.close()\n",
    "        \n",
    "    def get_energies(self):\n",
    "        # get the energies and shift it to the Fermi energy\n",
    "        self.energies = np.genfromtxt(self.file, skip_header=6, max_rows=self.nedos, usecols=0, ) - self.e_fermi\n",
    "        \n",
    "    def get_tdos(self):\n",
    "        if self.spin:\n",
    "            self.tdos = np.genfromtxt(self.file, skip_header=6, max_rows=self.nedos, usecols=(1, 2))\n",
    "            self.tdos = self.tdos.reshape(-1,self.nedos)*np.array([1,-1])[:,None]\n",
    "        if not self.spin:\n",
    "            self.tods = np.genfromtxt(self.file, skip_header=6, max_rows=self.nedos, usecols=1).reshape(-1,self.nedos)\n",
    "            \n",
    "    def get_atom_dos(self, index):\n",
    "        '''Return the dos of an atom with the given index, which starts from 0'''\n",
    "        assert self.pdos, \"Non partial dos is not available\"\n",
    "        if self.spin:\n",
    "            a = np.genfromtxt(self.file, skip_header=5+(self.nedos + 1)*(index+1)+1, max_rows=self.nedos)[:,1:]\n",
    "            return np.array([a[:,::2], -a[:,1::2]])  # sign spin down dos to negative\n",
    "        else:\n",
    "            return np.genfromtxt(self.file, skip_header=5+(self.nedos + 1)*(index+1)+1, max_rows=self.nedos)[:,1:]\n",
    "    \n",
    "    def sum_atoms_dos(self, indices):\n",
    "        '''Sum the DOS of all speficifed atoms'''\n",
    "        dos_sum = np.zeros_like(self.get_atom_dos(indices[0]))\n",
    "        for index in indices:\n",
    "            dos_sum= dos_sum + self.get_atom_dos(index)\n",
    "        return dos_sum\n",
    "    \n",
    "    def get_all_pdos(self):\n",
    "        '''Sum over all atoms` pdos'''\n",
    "        return self.sum_atoms_dos(np.arange(self.n_ions))\n",
    "    \n",
    "# define orbital dict\n",
    "orbital_dic = {}\n",
    "orbital_str = ['s', 'py','pz','px','dxy', 'dyz', 'dz2-r2', 'dxz', 'dx2-y2', 'f1','f2','f3','f4','f5','f6','f7']\n",
    "[orbital_dic.setdefault(orbital_str[i], i)  for i in range(len(orbital_str))]\n",
    "\n",
    "def get_orbitals(orbitals):\n",
    "    orbital_lst = []\n",
    "    \n",
    "    for key in orbitals:\n",
    "        if key not in orbital_dic.keys():\n",
    "            raise ValueError(\"%s is not a orbital\"%key)\n",
    "    \n",
    "    [orbital_lst.append(orbital_dic.get(key)) for key in orbitals]\n",
    "    return orbital_lst\n",
    "\n",
    "def sum_orbitals_dos(dos,orbitals):\n",
    "    orbital_lst = get_orbitals(orbitals)\n",
    "    if dos.ndim == 2:\n",
    "        return dos[:,orbital_lst].sum(axis=-1)\n",
    "    elif dos.ndim == 3:\n",
    "        return dos[:,:,orbital_lst].sum(axis=-1)\n",
    "    else:\n",
    "        raise ValueError('Incorrect dimension detected, the ndim of the dos array should be 2 or 3.\\nNow it is %d.'%dos.ndim)\n",
    "        \n"
   ]
  },
  {
   "cell_type": "code",
   "execution_count": 3,
   "metadata": {},
   "outputs": [],
   "source": [
    "fe_dos = DOS(r'./dos_file/feDOSCAR')"
   ]
  },
  {
   "cell_type": "code",
   "execution_count": 4,
   "metadata": {},
   "outputs": [],
   "source": [
    "dos_12 = fe_dos.sum_atoms_dos([0, 1])"
   ]
  },
  {
   "cell_type": "code",
   "execution_count": 5,
   "metadata": {},
   "outputs": [
    {
     "data": {
      "text/plain": [
       "(2, 1000, 9)"
      ]
     },
     "execution_count": 5,
     "metadata": {},
     "output_type": "execute_result"
    }
   ],
   "source": [
    "dos_12.shape"
   ]
  },
  {
   "cell_type": "code",
   "execution_count": 6,
   "metadata": {},
   "outputs": [
    {
     "data": {
      "text/plain": [
       "(2, 1000)"
      ]
     },
     "execution_count": 6,
     "metadata": {},
     "output_type": "execute_result"
    }
   ],
   "source": [
    "dos_12.sum(axis=-1).shape"
   ]
  },
  {
   "cell_type": "code",
   "execution_count": 7,
   "metadata": {},
   "outputs": [],
   "source": [
    "a = sum_orbitals_dos(['px','py','pz'],dos_12)"
   ]
  },
  {
   "cell_type": "code",
   "execution_count": 9,
   "metadata": {},
   "outputs": [
    {
     "data": {
      "text/plain": [
       "[<matplotlib.lines.Line2D at 0x7f6d4064c400>]"
      ]
     },
     "execution_count": 9,
     "metadata": {},
     "output_type": "execute_result"
    },
    {
     "data": {
      "image/png": "[encoded data removed]",
      "text/plain": [
       "<Figure size 432x288 with 1 Axes>"
      ]
     },
     "metadata": {
      "needs_background": "light"
     },
     "output_type": "display_data"
    }
   ],
   "source": [
    "plt.plot(fe_dos.energies, a[0], label = 'up')\n",
    "plt.plot(fe_dos.energies, a[1], label = 'dw')"
   ]
  },
  {
   "cell_type": "code",
   "execution_count": null,
   "metadata": {},
   "outputs": [],
   "source": []
  }
 ],
 "metadata": {
  "kernelspec": {
   "display_name": "Python 3",
   "language": "python",
   "name": "python3"
  },
  "language_info": {
   "codemirror_mode": {
    "name": "ipython",
    "version": 3
   },
   "file_extension": ".py",
   "mimetype": "text/x-python",
   "name": "python",
   "nbconvert_exporter": "python",
   "pygments_lexer": "ipython3",
   "version": "3.8.5"
  }
 },
 "nbformat": 4,
 "nbformat_minor": 4
}
